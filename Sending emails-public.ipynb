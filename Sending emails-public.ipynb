{
 "cells": [
  {
   "cell_type": "markdown",
   "metadata": {},
   "source": [
    "# Sendig emails with Python\n",
    "\n",
    "Sending dozens or hundreds of emails with the same structure but somehow personalized can be really time \n",
    "consuming if you do it manually. In one project, we needed someone to do exactly this. \n",
    "To be more specific, the task was to open log file, extract some information and contact \n",
    "respective person by email using extracted data.\n",
    "\n",
    "I tried this task once on my own – it took me more than a minute to complete all steps for one email. \n",
    "Imagine you have to send 100 such emails per day… Well, if you do some homework, you can get rid of this \n",
    "by using some sort of script. This article is about using Python and Outlook to do such activities. \n",
    "Let’s begin!\n"
   ]
  },
  {
   "cell_type": "markdown",
   "metadata": {},
   "source": [
    "## Few Notes\n",
    "Note 1: If you don’t already have Python installed in your computer, I suggest installing latest Anaconda distribution – link here https://docs.anaconda.com/anaconda/install/\n",
    "\n",
    "Note 2: This tutorial is about using Python and Outlook. This means that all emails will be sent from your email address, which you have specified in Outlook. It may be that some exchange server setting might prevent some actions. Shall this happen, check with your IT administrators. \n",
    "\n",
    "Note 3: Sending email using Python is actually pretty simple. Just use few lines from cell below. However, this wouldn’t be so useful without having some additional code that is doing the heavy lifting for you. Therefore, let me go through steps I did in my case and I invite you to consider what would be right approach in your situation."
   ]
  },
  {
   "cell_type": "code",
   "execution_count": null,
   "metadata": {},
   "outputs": [],
   "source": [
    "import win32com.client as win32\n",
    "outlook = win32.Dispatch('outlook.application')\n",
    "mail = outlook.CreateItem(0)\n",
    "mail.To = receiver\n",
    "mail.Subject = subject\n",
    "mail.Body = body\n",
    "mail.Send()"
   ]
  },
  {
   "cell_type": "markdown",
   "metadata": {},
   "source": [
    "# Import pandas"
   ]
  },
  {
   "cell_type": "code",
   "execution_count": 4,
   "metadata": {},
   "outputs": [],
   "source": [
    "import pandas as pd\n",
    "\n",
    "# read csv files - make sure they are located in the same folder as this notebook. Otherwise specify\n",
    "# exact path to the location of the files\n",
    "\n",
    "df = pd.read_csv('log02.csv') \n",
    "df_em = pd.read_csv('emails.csv')"
   ]
  },
  {
   "cell_type": "code",
   "execution_count": 6,
   "metadata": {},
   "outputs": [
    {
     "data": {
      "text/html": [
       "<div>\n",
       "<style scoped>\n",
       "    .dataframe tbody tr th:only-of-type {\n",
       "        vertical-align: middle;\n",
       "    }\n",
       "\n",
       "    .dataframe tbody tr th {\n",
       "        vertical-align: top;\n",
       "    }\n",
       "\n",
       "    .dataframe thead th {\n",
       "        text-align: right;\n",
       "    }\n",
       "</style>\n",
       "<table border=\"1\" class=\"dataframe\">\n",
       "  <thead>\n",
       "    <tr style=\"text-align: right;\">\n",
       "      <th></th>\n",
       "      <th>User:</th>\n",
       "      <th>Date:</th>\n",
       "      <th>IP:</th>\n",
       "      <th>Hostname:</th>\n",
       "      <th>Description:</th>\n",
       "    </tr>\n",
       "  </thead>\n",
       "  <tbody>\n",
       "    <tr>\n",
       "      <td>0</td>\n",
       "      <td>jjksdf</td>\n",
       "      <td>27.10.2020</td>\n",
       "      <td>10.35.16.124</td>\n",
       "      <td>HSTDFEWPEW</td>\n",
       "      <td>Described what doing</td>\n",
       "    </tr>\n",
       "    <tr>\n",
       "      <td>1</td>\n",
       "      <td>vcvsd</td>\n",
       "      <td>27.10.2020</td>\n",
       "      <td>10.35.16.125</td>\n",
       "      <td>DEFDSDSD0101010</td>\n",
       "      <td>Described what doing not</td>\n",
       "    </tr>\n",
       "  </tbody>\n",
       "</table>\n",
       "</div>"
      ],
      "text/plain": [
       "    User:       Date:           IP:        Hostname:              Description:\n",
       "0  jjksdf  27.10.2020  10.35.16.124       HSTDFEWPEW      Described what doing\n",
       "1   vcvsd  27.10.2020  10.35.16.125  DEFDSDSD0101010  Described what doing not"
      ]
     },
     "execution_count": 6,
     "metadata": {},
     "output_type": "execute_result"
    }
   ],
   "source": [
    "# let's see how the data looks like\n",
    "\n",
    "df.head(2)\n",
    "#df_em"
   ]
  },
  {
   "cell_type": "markdown",
   "metadata": {},
   "source": [
    "# Design of solution\n",
    "Always consider your situation with all specifics before copy/pasting from my solution. Let me outline what was my situation and how I approached it.\n",
    "We needed to check log files in order to extract who connected to certain infrastructure and then contact respective administrator to and ask some for some details. Logs were provided in csv file and contained an identifier of admin, date/time information of access to server and many other details. For demonstration I’m using just a sample file with made up entries. \n",
    "\n",
    "I’m using separate file where each admin identifier is linked to email address but in case you have excel exports, this may be stored in same file but different tab. Shall this solution be used in bigger scale, then I would use database solution. Nevertheless, this was just a small exercise run by me so I think using csv or excel files is just fine.\n",
    "\n",
    "Each email can be broken down into few fields you should provide. Here, I will consider subject, body of email and of course, the receiver. Each is handled by separate function that will be triggered."
   ]
  },
  {
   "cell_type": "code",
   "execution_count": 2,
   "metadata": {},
   "outputs": [],
   "source": [
    "def subj(receiver,date,hostname):\n",
    "    # split receiver email address \n",
    "    use_receiver = receiver.split('@')[0].split('.')\n",
    "\n",
    "    #creacte subject message - use first 2 elements of use_receiver (name and surname)\n",
    "    subject = f'{use_receiver[0]} {use_receiver[1]} worked on {hostname} at {date} - confirm action'\n",
    "    \n",
    "    return subject"
   ]
  },
  {
   "cell_type": "code",
   "execution_count": 3,
   "metadata": {},
   "outputs": [],
   "source": [
    "def body(receiver,date,hostname):\n",
    "    # split receiver email address \n",
    "    use_receiver = receiver.split('@')[0].split('.')\n",
    "    \n",
    "    #creacte subject message - use first 2 elements of use_receiver (name and surname)\n",
    "    body = f\"\"\"Dear {use_receiver[0]} {use_receiver[1]}, \n",
    "    \n",
    "you have worked on: ' {hostname} ' at {date}. Please provide reference...........\n",
    "    \n",
    "Thank you.\n",
    "\n",
    "Regards,\n",
    "XYZ\n",
    "    \"\"\"\n",
    "    \n",
    "    return body"
   ]
  },
  {
   "cell_type": "code",
   "execution_count": 1,
   "metadata": {},
   "outputs": [],
   "source": [
    "def send_email(receiver,subject,body):\n",
    "    \"\"\"\n",
    "    Sending email via outlook app\n",
    "    \n",
    "    receiver - email address of the receiver and must be string. For more recipients, separate them by ; but \n",
    "    still must be part of the same string\n",
    "    subject - subject of the email, string\n",
    "    body - body of the email, string\n",
    "    \"\"\"\n",
    "    import win32com.client as win32 \n",
    "    \n",
    "    outlook = win32.Dispatch('outlook.application')\n",
    "    mail = outlook.CreateItem(0)\n",
    "    mail.To = receiver\n",
    "    mail.Subject = subject\n",
    "    mail.Body = body\n",
    "    mail.Send()"
   ]
  },
  {
   "cell_type": "markdown",
   "metadata": {},
   "source": [
    "# Let’s start sending emails\n",
    "With data loaded, functions defined, let’s actually send some emails. We can apply functions for all entries in the log file with simple “for” loop.\n",
    "\n",
    "At the beginning, we need to get user’s email address – indexing herein may be little confusing at first look, so be careful. Next is obtaining date and hostname info.\n",
    "\n",
    "Once done, we can call the functions which will do the heavy lifting. Please note that last command of the loop is time.sleep(1). This will make sure that once email is sent, there is a short break before sending another email. The reason for this is to avoid overloading exchange server with too many requests.\n"
   ]
  },
  {
   "cell_type": "code",
   "execution_count": 191,
   "metadata": {},
   "outputs": [],
   "source": [
    "# loop to run actual email sending\n",
    "\n",
    "import time\n",
    "a = []\n",
    "\n",
    "for i in range(0,len(df)):\n",
    "    \n",
    "    # get user's email address\n",
    "    a.append(df['User:'][i])\n",
    "    b = a[i]\n",
    "    receiver = str(df_em[df_em['wiw']==b]['email']).split()[1]\n",
    "   \n",
    "    \n",
    "    #obtain date and hostname data\n",
    "    date = df['Date:'][i]\n",
    "    hostname = df['Hostname:'][i]\n",
    "    \n",
    "    #call subj function to create subject for email\n",
    "    subject = subj(receiver,date,hostname)\n",
    "    \n",
    "    # call body func to create body of the email\n",
    "    e_body = body(receiver,date,hostname)\n",
    "    \n",
    "    # send actual email and wait before next iteration\n",
    "    send_email(receiver,subject,e_body)\n",
    "    time.sleep(1)\n",
    "    "
   ]
  },
  {
   "cell_type": "code",
   "execution_count": null,
   "metadata": {},
   "outputs": [],
   "source": []
  }
 ],
 "metadata": {
  "kernelspec": {
   "display_name": "Python 3",
   "language": "python",
   "name": "python3"
  },
  "language_info": {
   "codemirror_mode": {
    "name": "ipython",
    "version": 3
   },
   "file_extension": ".py",
   "mimetype": "text/x-python",
   "name": "python",
   "nbconvert_exporter": "python",
   "pygments_lexer": "ipython3",
   "version": "3.7.4"
  }
 },
 "nbformat": 4,
 "nbformat_minor": 2
}
